{
  "nbformat": 4,
  "nbformat_minor": 0,
  "metadata": {
    "colab": {
      "name": "Copy of Untitled0.ipynb",
      "provenance": [],
      "collapsed_sections": [],
      "authorship_tag": "ABX9TyPluzt685F8zLdQsEap+w4V",
      "include_colab_link": true
    },
    "kernelspec": {
      "name": "python3",
      "display_name": "Python 3"
    }
  },
  "cells": [
    {
      "cell_type": "markdown",
      "metadata": {
        "id": "view-in-github",
        "colab_type": "text"
      },
      "source": [
        "<a href=\"https://colab.research.google.com/github/wlo2912991/python/blob/master/NUMPY.ipynb\" target=\"_parent\"><img src=\"https://colab.research.google.com/assets/colab-badge.svg\" alt=\"Open In Colab\"/></a>"
      ]
    },
    {
      "cell_type": "markdown",
      "metadata": {
        "id": "DAcLCItW__A8",
        "colab_type": "text"
      },
      "source": [
        "1.使用Python內建的array()建立陣列"
      ]
    },
    {
      "cell_type": "code",
      "metadata": {
        "id": "Qk1_mBcN-maZ",
        "colab_type": "code",
        "outputId": "47b44519-a9d2-4a9d-cfd7-056ee6904dda",
        "colab": {
          "base_uri": "https://localhost:8080/",
          "height": 34
        }
      },
      "source": [
        "import numpy as np\n",
        "ar2=np.array([[0,3,5],[2,8,7]])\n",
        "ar2.shape # 顯示出是幾x幾的陣列\n",
        "ar2.ndim  # 顯示出是幾維陣列"
      ],
      "execution_count": 0,
      "outputs": [
        {
          "output_type": "execute_result",
          "data": {
            "text/plain": [
              "2"
            ]
          },
          "metadata": {
            "tags": []
          },
          "execution_count": 2
        }
      ]
    },
    {
      "cell_type": "markdown",
      "metadata": {
        "id": "3QpS0KTlAGxw",
        "colab_type": "text"
      },
      "source": [
        "2.使用numpy提供的創建函數建立陣列"
      ]
    },
    {
      "cell_type": "code",
      "metadata": {
        "id": "q6lWLCVk-_lq",
        "colab_type": "code",
        "outputId": "8c1928e4-106a-4ce4-dbef-58368dc8c0f3",
        "colab": {
          "base_uri": "https://localhost:8080/",
          "height": 34
        }
      },
      "source": [
        "ar=np.array([2,4,6,8]); \n",
        "ar.dtype  #顯示出是甚麼類型   int64是整數"
      ],
      "execution_count": 0,
      "outputs": [
        {
          "output_type": "execute_result",
          "data": {
            "text/plain": [
              "dtype('int64')"
            ]
          },
          "metadata": {
            "tags": []
          },
          "execution_count": 2
        }
      ]
    },
    {
      "cell_type": "code",
      "metadata": {
        "id": "3E21x4jJ_A3r",
        "colab_type": "code",
        "outputId": "8ee1ad7a-4f44-4111-9d4a-b258dbf7b710",
        "colab": {
          "base_uri": "https://localhost:8080/",
          "height": 34
        }
      },
      "source": [
        "f_ar = np.array([13,-3,8.88])\n",
        "f_ar\n",
        "\n",
        "intf_ar=f_ar.astype(int)   #轉換類型成為整數\n",
        "intf_ar\n"
      ],
      "execution_count": 0,
      "outputs": [
        {
          "output_type": "execute_result",
          "data": {
            "text/plain": [
              "array([13, -3,  8])"
            ]
          },
          "metadata": {
            "tags": []
          },
          "execution_count": 4
        }
      ]
    },
    {
      "cell_type": "code",
      "metadata": {
        "id": "MNf_uuIA_G9p",
        "colab_type": "code",
        "outputId": "0d0e23bb-bbee-4f5d-8ebd-4ac074cb9619",
        "colab": {
          "base_uri": "https://localhost:8080/",
          "height": 67
        }
      },
      "source": [
        "import numpy as np\n",
        "x = np.array([[1,2.0],[0,0],(1+1j,3.)])  # 複數陣列\n",
        "x"
      ],
      "execution_count": 0,
      "outputs": [
        {
          "output_type": "execute_result",
          "data": {
            "text/plain": [
              "array([[1.+0.j, 2.+0.j],\n",
              "       [0.+0.j, 0.+0.j],\n",
              "       [1.+1.j, 3.+0.j]])"
            ]
          },
          "metadata": {
            "tags": []
          },
          "execution_count": 8
        }
      ]
    },
    {
      "cell_type": "code",
      "metadata": {
        "id": "fjW-fSpT_PL8",
        "colab_type": "code",
        "outputId": "c89c4d74-7643-490e-e962-7f304d87069d",
        "colab": {
          "base_uri": "https://localhost:8080/",
          "height": 67
        }
      },
      "source": [
        "import numpy as np\n",
        "ar9 = np.eye(3);  #製造一個幾層的單位矩陣\n",
        "ar9"
      ],
      "execution_count": 0,
      "outputs": [
        {
          "output_type": "execute_result",
          "data": {
            "text/plain": [
              "array([[1., 0., 0.],\n",
              "       [0., 1., 0.],\n",
              "       [0., 0., 1.]])"
            ]
          },
          "metadata": {
            "tags": []
          },
          "execution_count": 9
        }
      ]
    },
    {
      "cell_type": "code",
      "metadata": {
        "id": "nSrZYffi_Rze",
        "colab_type": "code",
        "outputId": "76318133-305d-4c25-ce45-77d15214298f",
        "colab": {
          "base_uri": "https://localhost:8080/",
          "height": 50
        }
      },
      "source": [
        "import numpy as np\n",
        "np.zeros((2, 3))  #製造一個零的幾乘幾矩陣\n"
      ],
      "execution_count": 0,
      "outputs": [
        {
          "output_type": "execute_result",
          "data": {
            "text/plain": [
              "array([[0., 0., 0.],\n",
              "       [0., 0., 0.]])"
            ]
          },
          "metadata": {
            "tags": []
          },
          "execution_count": 10
        }
      ]
    },
    {
      "cell_type": "code",
      "metadata": {
        "id": "7Av1OiWc_U1e",
        "colab_type": "code",
        "outputId": "42cab3f9-747a-4cdd-9203-290f82f81f9f",
        "colab": {
          "base_uri": "https://localhost:8080/",
          "height": 84
        }
      },
      "source": [
        "import numpy as np\n",
        "np.ones((4, 7))  #製造一個全部為1的幾乘幾矩陣"
      ],
      "execution_count": 0,
      "outputs": [
        {
          "output_type": "execute_result",
          "data": {
            "text/plain": [
              "array([[1., 1., 1., 1., 1., 1., 1.],\n",
              "       [1., 1., 1., 1., 1., 1., 1.],\n",
              "       [1., 1., 1., 1., 1., 1., 1.],\n",
              "       [1., 1., 1., 1., 1., 1., 1.]])"
            ]
          },
          "metadata": {
            "tags": []
          },
          "execution_count": 11
        }
      ]
    },
    {
      "cell_type": "code",
      "metadata": {
        "id": "hbMS88J5_Y_p",
        "colab_type": "code",
        "outputId": "afab766b-2a6e-4126-8665-97aadf7e642f",
        "colab": {
          "base_uri": "https://localhost:8080/",
          "height": 34
        }
      },
      "source": [
        "import numpy as np\n",
        "np.arange(2, 3, 0.1) # 從2開始, 3結束, 每次增加0.1"
      ],
      "execution_count": 0,
      "outputs": [
        {
          "output_type": "execute_result",
          "data": {
            "text/plain": [
              "array([2. , 2.1, 2.2, 2.3, 2.4, 2.5, 2.6, 2.7, 2.8, 2.9])"
            ]
          },
          "metadata": {
            "tags": []
          },
          "execution_count": 12
        }
      ]
    },
    {
      "cell_type": "code",
      "metadata": {
        "id": "Us4CqNOa_ZuZ",
        "colab_type": "code",
        "outputId": "1ed2bba7-71b3-4563-b126-d7fa4cd121f1",
        "colab": {
          "base_uri": "https://localhost:8080/",
          "height": 34
        }
      },
      "source": [
        "import numpy as np\n",
        "np.linspace(1., 4., 6) # 從1.開始 到4.結束 每次加0.6"
      ],
      "execution_count": 0,
      "outputs": [
        {
          "output_type": "execute_result",
          "data": {
            "text/plain": [
              "array([1. , 1.6, 2.2, 2.8, 3.4, 4. ])"
            ]
          },
          "metadata": {
            "tags": []
          },
          "execution_count": 13
        }
      ]
    },
    {
      "cell_type": "code",
      "metadata": {
        "id": "04-M5kBS_bT8",
        "colab_type": "code",
        "outputId": "18a459b0-58e8-42dc-97f7-f864e116709f",
        "colab": {
          "base_uri": "https://localhost:8080/",
          "height": 34
        }
      },
      "source": [
        "import numpy as np\n",
        "np.linspace(2.0, 3.0, num=5)  從2.0開始 到3.0結束 5個數字的等差數列"
      ],
      "execution_count": 0,
      "outputs": [
        {
          "output_type": "execute_result",
          "data": {
            "text/plain": [
              "array([2.  , 2.25, 2.5 , 2.75, 3.  ])"
            ]
          },
          "metadata": {
            "tags": []
          },
          "execution_count": 14
        }
      ]
    },
    {
      "cell_type": "code",
      "metadata": {
        "id": "DqmvdG3x_dmI",
        "colab_type": "code",
        "outputId": "cab9144e-02bc-438e-d287-8488b2e54e2c",
        "colab": {
          "base_uri": "https://localhost:8080/",
          "height": 34
        }
      },
      "source": [
        "import numpy as np\n",
        "np.linspace(2.0, 3.0, num=5, endpoint=False) 從2.0開始 到3.0結束 5個數字的等差數列 不包含結束的數字"
      ],
      "execution_count": 0,
      "outputs": [
        {
          "output_type": "execute_result",
          "data": {
            "text/plain": [
              "array([2. , 2.2, 2.4, 2.6, 2.8])"
            ]
          },
          "metadata": {
            "tags": []
          },
          "execution_count": 15
        }
      ]
    },
    {
      "cell_type": "code",
      "metadata": {
        "id": "fORY8bD__fCI",
        "colab_type": "code",
        "outputId": "9d273352-38d5-4014-9f71-4e624e56064f",
        "colab": {
          "base_uri": "https://localhost:8080/",
          "height": 34
        }
      },
      "source": [
        "import numpy as np\n",
        "np.linspace(2.0, 3.0, num=5, retstep=True)  從2.0開始 到3.0結束 5個數字的等差數列  retstep代表打出差是多少"
      ],
      "execution_count": 0,
      "outputs": [
        {
          "output_type": "execute_result",
          "data": {
            "text/plain": [
              "(array([2.  , 2.25, 2.5 , 2.75, 3.  ]), 0.25)"
            ]
          },
          "metadata": {
            "tags": []
          },
          "execution_count": 16
        }
      ]
    },
    {
      "cell_type": "code",
      "metadata": {
        "id": "LFwQCYNd_hWg",
        "colab_type": "code",
        "outputId": "fb924cf4-d2c7-49bc-e85e-9c2336d04295",
        "colab": {
          "base_uri": "https://localhost:8080/",
          "height": 134
        }
      },
      "source": [
        "import numpy as np\n",
        "np.indices((3, 3))  #製造幾乘幾的陣列 並且填上第幾維的數字"
      ],
      "execution_count": 0,
      "outputs": [
        {
          "output_type": "execute_result",
          "data": {
            "text/plain": [
              "array([[[0, 0, 0],\n",
              "        [1, 1, 1],\n",
              "        [2, 2, 2]],\n",
              "\n",
              "       [[0, 1, 2],\n",
              "        [0, 1, 2],\n",
              "        [0, 1, 2]]])"
            ]
          },
          "metadata": {
            "tags": []
          },
          "execution_count": 17
        }
      ]
    },
    {
      "cell_type": "code",
      "metadata": {
        "id": "fo6XyEfD_ia8",
        "colab_type": "code",
        "outputId": "1ec11300-7e53-4740-98b6-2e75e616ce30",
        "colab": {
          "base_uri": "https://localhost:8080/",
          "height": 34
        }
      },
      "source": [
        "import numpy as np\n",
        "a = np.array([0, 1, 2])\n",
        "np.tile(a, 2)     #將某個陣列複製幾次"
      ],
      "execution_count": 0,
      "outputs": [
        {
          "output_type": "execute_result",
          "data": {
            "text/plain": [
              "array([0, 1, 2, 0, 1, 2])"
            ]
          },
          "metadata": {
            "tags": []
          },
          "execution_count": 18
        }
      ]
    },
    {
      "cell_type": "code",
      "metadata": {
        "id": "E3Jb0MrP_kOi",
        "colab_type": "code",
        "outputId": "b50d5128-14ce-4c31-912c-f4de1f8ebefb",
        "colab": {
          "base_uri": "https://localhost:8080/",
          "height": 50
        }
      },
      "source": [
        "import numpy as np\n",
        "a = np.array([0, 1, 2])\n",
        "np.tile(a, (2, 2))   #將某個陣列複製成幾乘幾的陣列"
      ],
      "execution_count": 0,
      "outputs": [
        {
          "output_type": "execute_result",
          "data": {
            "text/plain": [
              "array([[0, 1, 2, 0, 1, 2],\n",
              "       [0, 1, 2, 0, 1, 2]])"
            ]
          },
          "metadata": {
            "tags": []
          },
          "execution_count": 19
        }
      ]
    },
    {
      "cell_type": "code",
      "metadata": {
        "id": "iwnyJ2z__pCc",
        "colab_type": "code",
        "outputId": "55501897-7c44-46ed-d87b-1390074c2904",
        "colab": {
          "base_uri": "https://localhost:8080/",
          "height": 67
        }
      },
      "source": [
        "import numpy as np\n",
        "a = np.array([0, 1, 2])\n",
        "np.tile(a, (2, 1, 2))   #將某個陣列複製成幾乘幾的陣列"
      ],
      "execution_count": 0,
      "outputs": [
        {
          "output_type": "execute_result",
          "data": {
            "text/plain": [
              "array([[[0, 1, 2, 0, 1, 2]],\n",
              "\n",
              "       [[0, 1, 2, 0, 1, 2]]])"
            ]
          },
          "metadata": {
            "tags": []
          },
          "execution_count": 20
        }
      ]
    },
    {
      "cell_type": "markdown",
      "metadata": {
        "id": "i3_u1TM0_wVe",
        "colab_type": "text"
      },
      "source": [
        "3.直接生成使用genfromtxt()方法建立陣列"
      ]
    },
    {
      "cell_type": "code",
      "metadata": {
        "id": "Kb0XLJ3l_u-Q",
        "colab_type": "code",
        "outputId": "6adb9b70-3e9e-4e28-c6cf-0809ead04b08",
        "colab": {
          "base_uri": "https://localhost:8080/",
          "height": 84
        }
      },
      "source": [
        "import csv\n",
        "import numpy as np\n",
        "\n",
        "x = '''1,3,2,3,1,2,3,4\n",
        "2,4,5,0.6,5,6,7,8\n",
        "3,7,8,9,9,10,11,12\n",
        "4,1,1.1,1.2,13,14,15,16\n",
        "'''\n",
        "with open(\"abc.txt\",mode=\"w\",encoding=\"utf-8\") as file:\n",
        "  file.write(x)\n",
        "file.close()\n",
        "\n",
        "np.genfromtxt('abc.txt', delimiter=',', invalid_raise = False)  #從文字檔中讀取訊息\n"
      ],
      "execution_count": 0,
      "outputs": [
        {
          "output_type": "execute_result",
          "data": {
            "text/plain": [
              "array([[ 1. ,  3. ,  2. ,  3. ,  1. ,  2. ,  3. ,  4. ],\n",
              "       [ 2. ,  4. ,  5. ,  0.6,  5. ,  6. ,  7. ,  8. ],\n",
              "       [ 3. ,  7. ,  8. ,  9. ,  9. , 10. , 11. , 12. ],\n",
              "       [ 4. ,  1. ,  1.1,  1.2, 13. , 14. , 15. , 16. ]])"
            ]
          },
          "metadata": {
            "tags": []
          },
          "execution_count": 21
        }
      ]
    },
    {
      "cell_type": "code",
      "metadata": {
        "id": "Q2n95KRP_yad",
        "colab_type": "code",
        "outputId": "54032953-9317-4d78-c9d0-54f44426a817",
        "colab": {
          "base_uri": "https://localhost:8080/",
          "height": 50
        }
      },
      "source": [
        "import numpy as np\n",
        "np.tile(np.array([[1,2],[6,7]]),3)  #將陣列放大成三倍\n"
      ],
      "execution_count": 0,
      "outputs": [
        {
          "output_type": "execute_result",
          "data": {
            "text/plain": [
              "array([[1, 2, 1, 2, 1, 2],\n",
              "       [6, 7, 6, 7, 6, 7]])"
            ]
          },
          "metadata": {
            "tags": []
          },
          "execution_count": 1
        }
      ]
    },
    {
      "cell_type": "code",
      "metadata": {
        "id": "lZbarl2jiv9e",
        "colab_type": "code",
        "outputId": "ef884069-f58e-46cc-91f4-9ef5e8a3e07d",
        "colab": {
          "base_uri": "https://localhost:8080/",
          "height": 84
        }
      },
      "source": [
        "import numpy as np\n",
        "np.tile(np.array([[1,2],[6,7]]),(2,2))  #將陣列放大成2x2的"
      ],
      "execution_count": 0,
      "outputs": [
        {
          "output_type": "execute_result",
          "data": {
            "text/plain": [
              "array([[1, 2, 1, 2],\n",
              "       [6, 7, 6, 7],\n",
              "       [1, 2, 1, 2],\n",
              "       [6, 7, 6, 7]])"
            ]
          },
          "metadata": {
            "tags": []
          },
          "execution_count": 2
        }
      ]
    },
    {
      "cell_type": "code",
      "metadata": {
        "id": "YJWCSOMR_0Cn",
        "colab_type": "code",
        "outputId": "3c42f57c-c0dc-40b6-9261-4b0204c31b41",
        "colab": {
          "base_uri": "https://localhost:8080/",
          "height": 67
        }
      },
      "source": [
        "import numpy as np\n",
        "np.array([range(i, i + 3) for i in [2, 4, 6]])  \n"
      ],
      "execution_count": 0,
      "outputs": [
        {
          "output_type": "execute_result",
          "data": {
            "text/plain": [
              "array([[2, 3, 4],\n",
              "       [4, 5, 6],\n",
              "       [6, 7, 8]])"
            ]
          },
          "metadata": {
            "tags": []
          },
          "execution_count": 5
        }
      ]
    },
    {
      "cell_type": "markdown",
      "metadata": {
        "id": "e3D_zlHo_7Hc",
        "colab_type": "text"
      },
      "source": [
        "NUMPY ndarray 運算(Array shape manipulation)"
      ]
    },
    {
      "cell_type": "code",
      "metadata": {
        "id": "aFFVYVhoAIMj",
        "colab_type": "code",
        "outputId": "f3eaa91d-df60-4a82-9c33-2d0b2aee6d2e",
        "colab": {
          "base_uri": "https://localhost:8080/",
          "height": 50
        }
      },
      "source": [
        "import numpy as np\n",
        "x = np.arange(2,10).reshape(2,4) #做出一個2~10的陣列 再分成2x4的陣列\n",
        "x"
      ],
      "execution_count": 0,
      "outputs": [
        {
          "output_type": "execute_result",
          "data": {
            "text/plain": [
              "array([[2, 3, 4, 5],\n",
              "       [6, 7, 8, 9]])"
            ]
          },
          "metadata": {
            "tags": []
          },
          "execution_count": 24
        }
      ]
    },
    {
      "cell_type": "code",
      "metadata": {
        "id": "auPvxmjDAMfs",
        "colab_type": "code",
        "outputId": "6be9805d-7eca-494f-fb1f-0fc78c2f92f5",
        "colab": {
          "base_uri": "https://localhost:8080/",
          "height": 84
        }
      },
      "source": [
        "import numpy as np\n",
        "y = np.arange(2,10).reshape(4,2)  #做出一個2~10的陣列 再分成4x2的陣列\n",
        "y"
      ],
      "execution_count": 0,
      "outputs": [
        {
          "output_type": "execute_result",
          "data": {
            "text/plain": [
              "array([[2, 3],\n",
              "       [4, 5],\n",
              "       [6, 7],\n",
              "       [8, 9]])"
            ]
          },
          "metadata": {
            "tags": []
          },
          "execution_count": 25
        }
      ]
    },
    {
      "cell_type": "code",
      "metadata": {
        "id": "v0Tt-K4FAOGh",
        "colab_type": "code",
        "outputId": "2016cb32-fb62-443f-a78c-22f0a89aca40",
        "colab": {
          "base_uri": "https://localhost:8080/",
          "height": 50
        }
      },
      "source": [
        "import numpy as np\n",
        "ar=np.array([np.arange(1,6),np.arange(10,15)]);  #在陣列裡面 做出一個1~6的陣列跟一個10~15的陣列\n",
        "ar"
      ],
      "execution_count": 0,
      "outputs": [
        {
          "output_type": "execute_result",
          "data": {
            "text/plain": [
              "array([[ 1,  2,  3,  4,  5],\n",
              "       [10, 11, 12, 13, 14]])"
            ]
          },
          "metadata": {
            "tags": []
          },
          "execution_count": 26
        }
      ]
    },
    {
      "cell_type": "code",
      "metadata": {
        "id": "X9hlrdJvAQE5",
        "colab_type": "code",
        "outputId": "00be4927-608c-4e8e-ed91-b6b08dec476f",
        "colab": {
          "base_uri": "https://localhost:8080/",
          "height": 34
        }
      },
      "source": [
        "import numpy as np\n",
        "ar=np.array([np.arange(1,6),np.arange(10,15)]) #在陣列裡面 做出一個1~6的陣列跟一個10~15的陣列\n",
        "ar.ravel()          #將陣列變成一維陣列\n",
        " "
      ],
      "execution_count": 0,
      "outputs": [
        {
          "output_type": "execute_result",
          "data": {
            "text/plain": [
              "array([ 1,  2,  3,  4,  5, 10, 11, 12, 13, 14])"
            ]
          },
          "metadata": {
            "tags": []
          },
          "execution_count": 27
        }
      ]
    },
    {
      "cell_type": "code",
      "metadata": {
        "id": "xIfIInenASKn",
        "colab_type": "code",
        "outputId": "e3e9fb12-dd0e-497d-de90-e25f4df803d1",
        "colab": {
          "base_uri": "https://localhost:8080/",
          "height": 101
        }
      },
      "source": [
        "import numpy as np\n",
        "ar=np.array([np.arange(1,6),np.arange(10,15)])  #在陣列裡面 做出一個1~6的陣列跟一個10~15的陣列\n",
        "ar.T  #將陣列反轉"
      ],
      "execution_count": 0,
      "outputs": [
        {
          "output_type": "execute_result",
          "data": {
            "text/plain": [
              "array([[ 1, 10],\n",
              "       [ 2, 11],\n",
              "       [ 3, 12],\n",
              "       [ 4, 13],\n",
              "       [ 5, 14]])"
            ]
          },
          "metadata": {
            "tags": []
          },
          "execution_count": 28
        }
      ]
    },
    {
      "cell_type": "code",
      "metadata": {
        "id": "HEqhtGBOAWet",
        "colab_type": "code",
        "outputId": "ebb27f6e-7d24-4780-d75f-8bfefc9180e1",
        "colab": {
          "base_uri": "https://localhost:8080/",
          "height": 34
        }
      },
      "source": [
        "import numpy as np\n",
        "ar=np.array([np.arange(1,6),np.arange(10,15)])  #在陣列裡面 做出一個1~6的陣列跟一個10~15的陣列\n",
        "ar.T.ravel()         #將陣列反轉後拆開成一維陣列"
      ],
      "execution_count": 0,
      "outputs": [
        {
          "output_type": "execute_result",
          "data": {
            "text/plain": [
              "array([ 1, 10,  2, 11,  3, 12,  4, 13,  5, 14])"
            ]
          },
          "metadata": {
            "tags": []
          },
          "execution_count": 30
        }
      ]
    },
    {
      "cell_type": "code",
      "metadata": {
        "id": "zChrBz9WAYwY",
        "colab_type": "code",
        "outputId": "74db9fc7-9372-4c5a-e525-df1709d45fda",
        "colab": {
          "base_uri": "https://localhost:8080/",
          "height": 34
        }
      },
      "source": [
        "import numpy as np\n",
        "ar=np.array([14,15,16])\n",
        "ar=ar[:, np.newaxis]  #轉換陣列方向\n",
        "ar.shape"
      ],
      "execution_count": 14,
      "outputs": [
        {
          "output_type": "execute_result",
          "data": {
            "text/plain": [
              "(3, 1)"
            ]
          },
          "metadata": {
            "tags": []
          },
          "execution_count": 14
        }
      ]
    }
  ]
}